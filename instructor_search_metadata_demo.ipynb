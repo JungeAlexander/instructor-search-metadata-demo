{
 "cells": [
  {
   "cell_type": "markdown",
   "metadata": {},
   "source": [
    "# Extract metadata from a search query using `instructor`\n",
    "\n",
    "Using `litellm` should make this LLM provider independent."
   ]
  },
  {
   "cell_type": "markdown",
   "metadata": {},
   "source": [
    "## Setup"
   ]
  },
  {
   "cell_type": "code",
   "execution_count": null,
   "metadata": {},
   "outputs": [],
   "source": [
    "from enum import Enum\n",
    "from datetime import date\n",
    "from textwrap import dedent\n",
    "from typing import Optional\n",
    "\n",
    "import instructor\n",
    "import litellm\n",
    "\n",
    "from dotenv import load_dotenv\n",
    "from litellm import completion\n",
    "from pydantic import BaseModel"
   ]
  },
  {
   "cell_type": "code",
   "execution_count": null,
   "metadata": {},
   "outputs": [],
   "source": [
    "load_dotenv()"
   ]
  },
  {
   "cell_type": "code",
   "execution_count": null,
   "metadata": {},
   "outputs": [],
   "source": [
    "use_langfuse = True"
   ]
  },
  {
   "cell_type": "code",
   "execution_count": null,
   "metadata": {},
   "outputs": [],
   "source": [
    "if use_langfuse:\n",
    "    litellm.success_callback = [\"langfuse\"]\n",
    "    litellm.failure_callback = [\"langfuse\"]"
   ]
  },
  {
   "cell_type": "code",
   "execution_count": null,
   "metadata": {},
   "outputs": [],
   "source": [
    "client = instructor.from_litellm(completion)"
   ]
  },
  {
   "cell_type": "markdown",
   "metadata": {},
   "source": [
    "## User query example"
   ]
  },
  {
   "cell_type": "code",
   "execution_count": null,
   "metadata": {},
   "outputs": [],
   "source": [
    "query = \"find all mvies from last Monday onwards\""
   ]
  },
  {
   "cell_type": "code",
   "execution_count": null,
   "metadata": {},
   "outputs": [],
   "source": [
    "class Dataset(Enum):\n",
    "    SONGS = \"songs\"\n",
    "    MOVIES = \"movies\"\n",
    "    BOOKS = \"books\""
   ]
  },
  {
   "cell_type": "code",
   "execution_count": null,
   "metadata": {},
   "outputs": [],
   "source": [
    "class Query(BaseModel):\n",
    "    dataset: Dataset\n",
    "    start_date: Optional[date]\n",
    "    end_date: Optional[date]"
   ]
  },
  {
   "cell_type": "code",
   "execution_count": null,
   "metadata": {},
   "outputs": [],
   "source": [
    "days = [\"Monday\", \"Tuesday\", \"Wednesday\", \"Thursday\", \"Friday\", \"Saturday\", \"Sunday\"]\n",
    "user_prompt = f\"\"\"\n",
    "Today is {days[date.today().weekday()]}, {date.today()}. Process the following query:\n",
    "\n",
    "{query}\n",
    "\"\"\""
   ]
  },
  {
   "cell_type": "code",
   "execution_count": null,
   "metadata": {},
   "outputs": [],
   "source": [
    "print(user_prompt)"
   ]
  },
  {
   "cell_type": "code",
   "execution_count": null,
   "metadata": {},
   "outputs": [],
   "source": [
    "resp = client.chat.completions.create(\n",
    "    model=\"azure/gpt-35-turbo-1106\",\n",
    "    max_tokens=1024,\n",
    "    messages=[\n",
    "        {\n",
    "            \"role\": \"user\",\n",
    "            \"content\": user_prompt\n",
    "        }\n",
    "    ],\n",
    "    response_model=Query, # !!!\n",
    ")"
   ]
  },
  {
   "cell_type": "code",
   "execution_count": null,
   "metadata": {},
   "outputs": [],
   "source": [
    "assert isinstance(resp, Query)\n",
    "assert resp.dataset == Dataset.MOVIES\n",
    "assert resp.start_date == date(2024, 6, 3) # will fail when running this in the future\n",
    "assert resp.end_date is None"
   ]
  },
  {
   "cell_type": "code",
   "execution_count": null,
   "metadata": {},
   "outputs": [],
   "source": [
    "resp"
   ]
  },
  {
   "cell_type": "markdown",
   "metadata": {},
   "source": [
    "## WHY?\n",
    "\n",
    "- we made LLM output structured and controllable (not a stochstic process)\n",
    "  - enables building proper control-flow and error handling (this is **HUGE**)\n",
    "- building on top of Pydantic and its schema validation and its ecosystem"
   ]
  },
  {
   "cell_type": "markdown",
   "metadata": {},
   "source": [
    "## TODO?\n",
    "\n",
    "- validation directly in Pydantic vague about week day"
   ]
  },
  {
   "cell_type": "markdown",
   "metadata": {},
   "source": [
    "## Suggested excercise\n",
    "\n",
    "1. set up your environment and run this notebook\n",
    "2. expand the Query model to include more fields, e.g, \"author\"\n",
    "3. define a custom validator: https://python.useinstructor.com/concepts/reask_validation/#pydantic"
   ]
  }
 ],
 "metadata": {
  "kernelspec": {
   "display_name": "instructor-search-metadata-demo",
   "language": "python",
   "name": "python3"
  },
  "language_info": {
   "codemirror_mode": {
    "name": "ipython",
    "version": 3
   },
   "file_extension": ".py",
   "mimetype": "text/x-python",
   "name": "python",
   "nbconvert_exporter": "python",
   "pygments_lexer": "ipython3",
   "version": "3.11.6"
  }
 },
 "nbformat": 4,
 "nbformat_minor": 2
}
